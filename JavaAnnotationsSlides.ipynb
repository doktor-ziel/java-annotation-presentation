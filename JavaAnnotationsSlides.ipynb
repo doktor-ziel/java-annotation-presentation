{
 "cells": [
  {
   "cell_type": "code",
   "execution_count": null,
   "id": "colonial-reduction",
   "metadata": {
    "slideshow": {
     "slide_type": "skip"
    }
   },
   "outputs": [],
   "source": [
    "%maven info.picocli:picocli:4.5.2\n",
    "    \n",
    "import picocli.CommandLine;\n",
    "import java.util.concurrent.Callable;\n",
    "import java.lang.reflect.*;\n",
    "import java.lang.annotation.*;"
   ]
  },
  {
   "cell_type": "markdown",
   "id": "paperback-steps",
   "metadata": {
    "slideshow": {
     "slide_type": "slide"
    }
   },
   "source": [
    "<center>\n",
    "    \n",
    "# Jak stworzyć swoją pierwszą adnotację w Javie?\n",
    "\n",
    "### Paweł Bogdan\n",
    "\n",
    "## Alten\n",
    "\n",
    "#### 04.02.2021\n",
    "    \n",
    "</center>"
   ]
  },
  {
   "cell_type": "markdown",
   "id": "acceptable-standing",
   "metadata": {
    "slideshow": {
     "slide_type": "slide"
    }
   },
   "source": [
    "# Agenda\n",
    "\n",
    "\n",
    "1. Zdefiniowanie adnotacji\n",
    "2. Prezentacja adnotacji dostępnych w bibliotece standardowej Java\n",
    "3. Jak stworzyć prostą adnotację?\n",
    "3. Prezentacja adnotacji udostępnianych przez inne frameworki\n",
    "4. Krótka powtórka z refleksji\n",
    "5. Dlaczego Java nie zawsze widzi adnotację i jak można to zmienić?\n",
    "6. Co jeszcze można zdefiniować w swojej własnej adnotacji?\n",
    "7. Zdefiniowanie własnego serializera obiektów do JSONa\n"
   ]
  },
  {
   "cell_type": "markdown",
   "id": "outdoor-rescue",
   "metadata": {
    "slideshow": {
     "slide_type": "slide"
    }
   },
   "source": [
    "<center>\n",
    "\n",
    "# Definicja adnotacji\n",
    "\n",
    "</center>\n",
    "\n",
    "> Annotations, a form of metadata, provide data about a program that is not part of the program itself. Annotations have no direct effect on the operation of the code they annotate.\n",
    "\n",
    "[Źródło](https://docs.oracle.com/javase/tutorial/java/annotations/index.html)"
   ]
  },
  {
   "cell_type": "markdown",
   "id": "material-pleasure",
   "metadata": {
    "slideshow": {
     "slide_type": "fragment"
    }
   },
   "source": [
    "Służą do\n",
    "\n",
    "- przekazywania danych kompilatorowi\n",
    "- zapisania dodatkowych informacji, które są wykorzystywane przez wirtualną maszynę Javy w czasie przetwarzania kodu binarnego lub w czasie działania programu\n"
   ]
  },
  {
   "cell_type": "markdown",
   "id": "passive-ghost",
   "metadata": {
    "slideshow": {
     "slide_type": "slide"
    }
   },
   "source": [
    "<center>\n",
    "\n",
    "# Adnotacje z biblioteki standardowej Javy\n",
    "    \n",
    "</center>"
   ]
  },
  {
   "cell_type": "markdown",
   "id": "static-interstate",
   "metadata": {
    "slideshow": {
     "slide_type": "subslide"
    }
   },
   "source": [
    "<center>\n",
    "\n",
    "### `@Override`\n",
    "\n",
    "</center>"
   ]
  },
  {
   "cell_type": "code",
   "execution_count": null,
   "id": "essential-steal",
   "metadata": {},
   "outputs": [],
   "source": [
    "class ExampleOverride {\n",
    "    @Override\n",
    "    public String tostring() {\n",
    "        return \"example\";\n",
    "    }\n",
    "}"
   ]
  },
  {
   "cell_type": "markdown",
   "id": "eastern-report",
   "metadata": {
    "slideshow": {
     "slide_type": "subslide"
    }
   },
   "source": [
    "<center>\n",
    "    \n",
    "### `@FunctionalInterface`\n",
    "\n",
    "</center>\n"
   ]
  },
  {
   "cell_type": "code",
   "execution_count": null,
   "id": "necessary-antigua",
   "metadata": {},
   "outputs": [],
   "source": [
    "@FunctionalInterface\n",
    "public interface Function {\n",
    "    double val(double x);\n",
    "    default void foo() {};\n",
    "}"
   ]
  },
  {
   "cell_type": "markdown",
   "id": "necessary-proxy",
   "metadata": {
    "slideshow": {
     "slide_type": "subslide"
    }
   },
   "source": [
    "<center>\n",
    "\n",
    "### `@Deprecated`\n",
    "\n",
    "</center>"
   ]
  },
  {
   "cell_type": "code",
   "execution_count": null,
   "id": "transparent-replication",
   "metadata": {},
   "outputs": [],
   "source": [
    "@Deprecated\n",
    "public class Library {\n",
    "    public double areaOfCircle(double radius) {\n",
    "        return Math.PI * radius * radius;\n",
    "    }\n",
    "}"
   ]
  },
  {
   "cell_type": "markdown",
   "id": "conditional-airfare",
   "metadata": {
    "slideshow": {
     "slide_type": "subslide"
    }
   },
   "source": [
    "<center>\n",
    "\n",
    "### `@SuppressWarnings`\n",
    "\n",
    "</center>\n",
    "\n",
    "```java\n",
    "public class Main {\n",
    "    List list = new ArrayList();\n",
    "    \n",
    "    @SuppressWarnings(\"unchecked\")\n",
    "    public void add(int element) {\n",
    "        list.add(element);\n",
    "    }\n",
    "}\n",
    "```"
   ]
  },
  {
   "cell_type": "markdown",
   "id": "subjective-momentum",
   "metadata": {
    "slideshow": {
     "slide_type": "slide"
    }
   },
   "source": [
    "<center>\n",
    "\n",
    "# Nasza pierwsza adnotacja\n",
    "    \n",
    "</center>"
   ]
  },
  {
   "cell_type": "code",
   "execution_count": null,
   "id": "light-spider",
   "metadata": {
    "slideshow": {
     "slide_type": "subslide"
    }
   },
   "outputs": [],
   "source": [
    "@interface SimpleAnnotation {}\n",
    "\n",
    "@SimpleAnnotation\n",
    "public class MyClass {\n",
    "    \n",
    "    @SimpleAnnotation\n",
    "    public int field;\n",
    "    \n",
    "    @SimpleAnnotation\n",
    "    public void myMethod() {\n",
    "        System.out.println(\"FOO\");\n",
    "    }\n",
    "}"
   ]
  },
  {
   "cell_type": "markdown",
   "id": "regular-macro",
   "metadata": {
    "slideshow": {
     "slide_type": "subslide"
    }
   },
   "source": [
    "<center>\n",
    "    \n",
    "### Można dodać atrybuty\n",
    "\n",
    "</center>"
   ]
  },
  {
   "cell_type": "code",
   "execution_count": null,
   "id": "ranking-conducting",
   "metadata": {},
   "outputs": [],
   "source": [
    "@interface SimpleAnnotation {\n",
    "    String attribute();\n",
    "}"
   ]
  },
  {
   "cell_type": "markdown",
   "id": "disciplinary-ukraine",
   "metadata": {
    "slideshow": {
     "slide_type": "fragment"
    }
   },
   "source": [
    "<center>\n",
    "    \n",
    "### Ale wtedy się nie skompiluje...\n",
    "    \n",
    "</center>"
   ]
  },
  {
   "cell_type": "code",
   "execution_count": null,
   "id": "ultimate-pharmacy",
   "metadata": {},
   "outputs": [],
   "source": [
    "@SimpleAnnotation\n",
    "public class MyClass {\n",
    "    \n",
    "    @SimpleAnnotation\n",
    "    public int field;\n",
    "    \n",
    "    @SimpleAnnotation\n",
    "    public void myMethod() {\n",
    "        System.out.println(\"FOO\");\n",
    "    }\n",
    "}"
   ]
  },
  {
   "cell_type": "markdown",
   "id": "completed-charger",
   "metadata": {
    "slideshow": {
     "slide_type": "subslide"
    }
   },
   "source": [
    "<center>\n",
    "    \n",
    "### Rozwiązanie 1 - dodanie atrybutów\n",
    "    \n",
    "</center>"
   ]
  },
  {
   "cell_type": "code",
   "execution_count": null,
   "id": "silver-paris",
   "metadata": {},
   "outputs": [],
   "source": [
    "@interface SimpleAnnotation {\n",
    "    String attribute();\n",
    "}\n",
    "\n",
    "@SimpleAnnotation\n",
    "public class MyClass {\n",
    "    \n",
    "    @SimpleAnnotation\n",
    "    public int field;\n",
    "    \n",
    "    @SimpleAnnotation\n",
    "    public void myMethod() {\n",
    "        System.out.println(\"FOO\");\n",
    "    }\n",
    "}"
   ]
  },
  {
   "cell_type": "markdown",
   "id": "victorian-salon",
   "metadata": {
    "slideshow": {
     "slide_type": "subslide"
    }
   },
   "source": [
    "<center>\n",
    "    \n",
    "### Rozwiązanie 2 - wartość domyślna\n",
    "    \n",
    "</center>"
   ]
  },
  {
   "cell_type": "code",
   "execution_count": null,
   "id": "useful-virginia",
   "metadata": {},
   "outputs": [],
   "source": [
    "@interface SimpleAnnotation {\n",
    "    String attribute();\n",
    "}\n",
    "\n",
    "@SimpleAnnotation\n",
    "public class MyClass {\n",
    "    \n",
    "    @SimpleAnnotation\n",
    "    public int field;\n",
    "    \n",
    "    @SimpleAnnotation\n",
    "    public void myMethod() {\n",
    "        System.out.println(\"FOO\");\n",
    "    }\n",
    "}"
   ]
  },
  {
   "cell_type": "markdown",
   "id": "aquatic-determination",
   "metadata": {
    "slideshow": {
     "slide_type": "subslide"
    }
   },
   "source": [
    "<center>\n",
    "    \n",
    "### A można bez nazwy atrybutu?\n",
    "    \n",
    "</center>"
   ]
  },
  {
   "cell_type": "code",
   "execution_count": null,
   "id": "charged-paris",
   "metadata": {},
   "outputs": [],
   "source": [
    "@interface SimpleAnnotation {\n",
    "}\n",
    "\n",
    "@SimpleAnnotation(\"Hello!\")\n",
    "public class MyClass {\n",
    "    \n",
    "    @SimpleAnnotation\n",
    "    public int field;\n",
    "    \n",
    "    @SimpleAnnotation\n",
    "    public void myMethod() {\n",
    "        System.out.println(\"FOO\");\n",
    "    }\n",
    "}"
   ]
  },
  {
   "cell_type": "markdown",
   "id": "crazy-squad",
   "metadata": {
    "slideshow": {
     "slide_type": "subslide"
    }
   },
   "source": [
    "<center>\n",
    "    \n",
    "### Jakiego typu może być atrybut?\n",
    "    \n",
    "</center>"
   ]
  },
  {
   "cell_type": "markdown",
   "id": "returning-postage",
   "metadata": {
    "slideshow": {
     "slide_type": "subslide"
    }
   },
   "source": [
    "<center>\n",
    "    \n",
    "### Dowolny typ prymitywny\n",
    "    \n",
    "</center>"
   ]
  },
  {
   "cell_type": "code",
   "execution_count": null,
   "id": "mineral-counter",
   "metadata": {},
   "outputs": [],
   "source": [
    "@interface SimpleAnnotation {\n",
    "    int value() default 0;\n",
    "    double attribute();\n",
    "}"
   ]
  },
  {
   "cell_type": "markdown",
   "id": "suited-guarantee",
   "metadata": {
    "slideshow": {
     "slide_type": "subslide"
    }
   },
   "source": [
    "<center>\n",
    "    \n",
    "### Obiekt klasy String\n",
    "    \n",
    "</center>"
   ]
  },
  {
   "cell_type": "code",
   "execution_count": null,
   "id": "classified-timber",
   "metadata": {},
   "outputs": [],
   "source": [
    "@interface SimpleAnnotation {\n",
    "    String value() default 0;\n",
    "}"
   ]
  },
  {
   "cell_type": "markdown",
   "id": "golden-smile",
   "metadata": {
    "slideshow": {
     "slide_type": "subslide"
    }
   },
   "source": [
    "<center>\n",
    "    \n",
    "### Enum\n",
    "    \n",
    "</center>"
   ]
  },
  {
   "cell_type": "code",
   "execution_count": null,
   "id": "talented-ordinary",
   "metadata": {},
   "outputs": [],
   "source": [
    "enum Side {\n",
    "    RIGHT, LEFT;\n",
    "}\n",
    "\n",
    "@interface SimpleAnnotation {\n",
    "    Side value() default RIGHT;\n",
    "}"
   ]
  },
  {
   "cell_type": "markdown",
   "id": "specified-alexandria",
   "metadata": {
    "slideshow": {
     "slide_type": "subslide"
    }
   },
   "source": [
    "<center>\n",
    "    \n",
    "### Obiekt klasy `Class`\n",
    "    \n",
    "</center>"
   ]
  },
  {
   "cell_type": "code",
   "execution_count": null,
   "id": "thermal-gamma",
   "metadata": {},
   "outputs": [],
   "source": [
    "@interface SimpleAnnotation {\n",
    "    Class<?> value();\n",
    "}"
   ]
  },
  {
   "cell_type": "markdown",
   "id": "enabling-greene",
   "metadata": {
    "slideshow": {
     "slide_type": "subslide"
    }
   },
   "source": [
    "<center>\n",
    "    \n",
    "### Tablica powyższych\n",
    "    \n",
    "</center>"
   ]
  },
  {
   "cell_type": "code",
   "execution_count": null,
   "id": "diagnostic-heater",
   "metadata": {},
   "outputs": [],
   "source": [
    "@interface SimpleAnnotation {\n",
    "    String[] value();\n",
    "}\n",
    "\n",
    "@SimpleAnnotation({\"a\", \"b\", \"c\"})\n",
    "class SimpleClass{}"
   ]
  },
  {
   "cell_type": "markdown",
   "id": "numerous-sherman",
   "metadata": {
    "slideshow": {
     "slide_type": "slide"
    }
   },
   "source": [
    "<center>\n",
    "\n",
    "# Adnotacje w innych bibliotekach\n",
    "    \n",
    "</center>"
   ]
  },
  {
   "cell_type": "markdown",
   "id": "intimate-spank",
   "metadata": {
    "slideshow": {
     "slide_type": "subslide"
    }
   },
   "source": [
    "<center>\n",
    "\n",
    "\n",
    "## Spring\n",
    "\n",
    "## JAXB\n",
    "\n",
    "## Lombock\n",
    "\n",
    "## ...\n",
    "    \n",
    "</center>"
   ]
  },
  {
   "cell_type": "markdown",
   "id": "accomplished-glucose",
   "metadata": {
    "slideshow": {
     "slide_type": "subslide"
    }
   },
   "source": [
    "<center>\n",
    "\n",
    "# Biblioteka `picocli`\n",
    "    \n",
    "</center>"
   ]
  },
  {
   "cell_type": "code",
   "execution_count": null,
   "id": "revolutionary-abortion",
   "metadata": {},
   "outputs": [],
   "source": [
    "@CommandLine.Command(\n",
    "    name=\"example\",\n",
    "    mixinStandardHelpOptions=false,\n",
    "    description=\"Just example command line app\"\n",
    ")\n",
    "class ExampleCommandLineApp implements Callable<Integer> {\n",
    "    @CommandLine.Option(names=\"-n\", description=\"name of person to greet\")\n",
    "    String name;\n",
    "    \n",
    "    @Override \n",
    "    public Integer call() {\n",
    "        System.out.println(\"Witaj \" + name + \"!\");\n",
    "        return 0;\n",
    "    }\n",
    "}\n",
    "\n",
    "int status = new CommandLine(new ExampleCommandLineApp()).execute(new String[]{\"nothing\"});"
   ]
  },
  {
   "cell_type": "markdown",
   "id": "brutal-defense",
   "metadata": {
    "slideshow": {
     "slide_type": "subslide"
    }
   },
   "source": [
    "<center>\n",
    "\n",
    "### Są jeszcze inne atrybuty\n",
    "    \n",
    "</center>"
   ]
  },
  {
   "cell_type": "code",
   "execution_count": null,
   "id": "infectious-federal",
   "metadata": {},
   "outputs": [],
   "source": [
    "@CommandLine.Command(\n",
    "    name=\"example\",\n",
    "    mixinStandardHelpOptions=true,\n",
    "    description=\"Just example command line app\"\n",
    ")\n",
    "class ExampleCommandLineApp implements Callable<Integer> {\n",
    "    @CommandLine.Option(\n",
    "        names={\"-n\", \"--name\"}, \n",
    "        description=\"name of person to greet\",\n",
    "        paramLabel=\"NAME\",\n",
    "        required=false,\n",
    "        defaultValue=\"Pawel\"\n",
    "    )\n",
    "    String name;\n",
    "    \n",
    "    @Override \n",
    "    public Integer call() {\n",
    "        System.out.println(\"Witaj \" + name + \"!\");\n",
    "        return 0;\n",
    "    }\n",
    "}\n",
    "\n",
    "int status = new CommandLine(new ExampleCommandLineApp()).execute(new String[]{\"-n\", \"Bogdan\"});"
   ]
  },
  {
   "cell_type": "markdown",
   "id": "rolled-friend",
   "metadata": {
    "slideshow": {
     "slide_type": "subslide"
    }
   },
   "source": [
    "<center>\n",
    "\n",
    "### I inne adnotacje\n",
    "    \n",
    "</center>"
   ]
  },
  {
   "cell_type": "code",
   "execution_count": null,
   "id": "neural-signal",
   "metadata": {},
   "outputs": [],
   "source": [
    "@CommandLine.Command(name=\"example\", mixinStandardHelpOptions=true, description=\"Just example command line app\")\n",
    "class ExampleCommandLineApp implements Callable<Integer> {\n",
    "    @CommandLine.Option(names={\"-n\", \"--name\"}, description=\"name of person to greet\", defaultValue=\"Pawel\")\n",
    "    String name;\n",
    "    @CommandLine.Parameters(index=\"0\", paramLabel=\"PATH\", description=\"Path to file\", defaultValue=\"/etc/passwd\" )\n",
    "    String param;\n",
    "    @Override \n",
    "    public Integer call() {\n",
    "        System.out.println(\"Witaj \" + name + \"!\");\n",
    "        System.out.println(\"Chcesz przeczytać plik: \" + param);\n",
    "        return 0;\n",
    "    }\n",
    "}\n",
    "\n",
    "int status = new CommandLine(new ExampleCommandLineApp()).execute(new String[]{\"-n\", \"pawel\"});"
   ]
  },
  {
   "cell_type": "markdown",
   "id": "chinese-shell",
   "metadata": {
    "slideshow": {
     "slide_type": "slide"
    }
   },
   "source": [
    "<center>\n",
    "\n",
    "# Krótka powtórka z refleksji\n",
    "    \n",
    "</center>"
   ]
  },
  {
   "cell_type": "code",
   "execution_count": null,
   "id": "smoking-catalog",
   "metadata": {
    "slideshow": {
     "slide_type": "subslide"
    }
   },
   "outputs": [],
   "source": [
    "Class<?> c = String.class;\n",
    "\n",
    "Field[] fields = c.getDeclaredFields();\n",
    "\n",
    "for (Field f : fields) {\n",
    "    System.out.println(f.getName();\n",
    "}\n"
   ]
  },
  {
   "cell_type": "markdown",
   "id": "seven-president",
   "metadata": {
    "slideshow": {
     "slide_type": "subslide"
    }
   },
   "source": [
    "<center>\n",
    "I teraz możemy\n",
    "</center>"
   ]
  },
  {
   "cell_type": "code",
   "execution_count": null,
   "id": "collected-display",
   "metadata": {
    "slideshow": {
     "slide_type": "subslide"
    }
   },
   "outputs": [],
   "source": [
    "String s = \"pawel\";\n",
    "Field f = c.getDeclaredField(\"value\");\n",
    "f.setAccessible(true);\n",
    "Object o = f.get(s);\n",
    "\n",
    "System.out.println(s);"
   ]
  },
  {
   "cell_type": "markdown",
   "id": "alive-ottawa",
   "metadata": {
    "slideshow": {
     "slide_type": "subslide"
    }
   },
   "source": [
    "<center>\n",
    "Podobnie możemy z adnotacjami\n",
    "</center>"
   ]
  },
  {
   "cell_type": "code",
   "execution_count": null,
   "id": "agreed-organization",
   "metadata": {},
   "outputs": [],
   "source": [
    "@interface SimpleAnnotation{}\n",
    "\n",
    "class SimpleClass {\n",
    "    @Override\n",
    "    @SimpleAnnotation\n",
    "    @CommandLine.Command\n",
    "    public String toString() {\n",
    "        return \"hahah\";\n",
    "    }\n",
    "}\n",
    "\n",
    "Method m = SimpleClass.class.getMethod(\"toString\");\n",
    "for (Annotation a : m.getAnnotations()) {\n",
    "    System.out.println(a.annotationType().getSimpleName());\n",
    "}"
   ]
  },
  {
   "cell_type": "markdown",
   "id": "imported-honor",
   "metadata": {
    "slideshow": {
     "slide_type": "subslide"
    }
   },
   "source": [
    "<center>\n",
    "    \n",
    "### A teraz będzie jeszcze dziwniej...\n",
    "    \n",
    "</center>"
   ]
  },
  {
   "cell_type": "markdown",
   "id": "sixth-egypt",
   "metadata": {
    "slideshow": {
     "slide_type": "fragment"
    }
   },
   "source": [
    "Gdy skompilujemy klasę `SimpleClass` i następnie ją zdeasemblujemy poleceniem: \n",
    "```bash\n",
    " javap -v -p SimpleClass.class\n",
    "```\n",
    "To dostaniemy:\n",
    "```\n",
    "    RuntimeVisibleAnnotations:\n",
    "      0: #15()\n",
    "        picocli.CommandLine$Command\n",
    "    RuntimeInvisibleAnnotations:\n",
    "      0: #17()\n",
    "        SimpleAnnotation\n",
    "```"
   ]
  },
  {
   "cell_type": "markdown",
   "id": "intended-assignment",
   "metadata": {
    "slideshow": {
     "slide_type": "slide"
    }
   },
   "source": [
    "<center>\n",
    "    \n",
    "# Dlaczego Java nie zawsze widzi adnotację?\n",
    "# Jak można to zmienić?\n",
    "    \n",
    "</center>"
   ]
  },
  {
   "cell_type": "markdown",
   "id": "conscious-housing",
   "metadata": {
    "slideshow": {
     "slide_type": "subslide"
    }
   },
   "source": [
    "<center>\n",
    "\n",
    "## Odpowiedź jest całkiem prosta\n",
    "    \n",
    "</center>"
   ]
  },
  {
   "cell_type": "markdown",
   "id": "accepting-contractor",
   "metadata": {
    "slideshow": {
     "slide_type": "fragment"
    }
   },
   "source": [
    "Dla każdej adnotacji możemy ustawić jeden z trzech poziomów widoczności:\n",
    "\n",
    "1. widoczna w czasie kompilacji\n",
    "2. widoczna w kodzie bajtowym\n",
    "3. widoczna w trakcie uruchomienia aplikacji"
   ]
  },
  {
   "cell_type": "markdown",
   "id": "mysterious-punishment",
   "metadata": {
    "slideshow": {
     "slide_type": "fragment"
    }
   },
   "source": [
    "### Domyślnym poziomem widoczności jest poziom 2"
   ]
  },
  {
   "cell_type": "markdown",
   "id": "considerable-supplement",
   "metadata": {
    "slideshow": {
     "slide_type": "subslide"
    }
   },
   "source": [
    "<center>\n",
    "\n",
    "## Jak zdefiniować inny poziom widoczności?\n",
    "    \n",
    "</center>"
   ]
  },
  {
   "cell_type": "markdown",
   "id": "acquired-favor",
   "metadata": {
    "slideshow": {
     "slide_type": "fragment"
    }
   },
   "source": [
    "<center>\n",
    "\n",
    "## Przez położenie adnotacji na definicji adnotacji\n",
    "    \n",
    "</center>"
   ]
  },
  {
   "cell_type": "code",
   "execution_count": null,
   "id": "convenient-deficit",
   "metadata": {
    "slideshow": {
     "slide_type": "subslide"
    }
   },
   "outputs": [],
   "source": [
    "@Retention(RetentionPolicy.SOURCE)\n",
    "@interface SimpleAnnotation {\n",
    "    String value() default \"\";\n",
    "}"
   ]
  },
  {
   "cell_type": "markdown",
   "id": "united-start",
   "metadata": {
    "slideshow": {
     "slide_type": "subslide"
    }
   },
   "source": [
    "Gdzie adnotacja jest zdefiniowana:\n",
    "\n",
    "```java\n",
    "@Documented\n",
    "@Retention(RetentionPolicy.RUNTIME)\n",
    "@Target({ElementType.ANNOTATION_TYPE})\n",
    "public @interface Retention {\n",
    "    RetentionPolicy value() default RetentionPolicy.CLASS;\n",
    "}\n",
    "```"
   ]
  },
  {
   "cell_type": "markdown",
   "id": "therapeutic-leader",
   "metadata": {
    "slideshow": {
     "slide_type": "subslide"
    }
   },
   "source": [
    "A ten enum, użyty w definicji adnotacji jest zdefiniowany:\n",
    "\n",
    "```java\n",
    "public enum RetentionPolicy {\n",
    "    SOURCE,\n",
    "    CLASS,\n",
    "    RUNTIME;\n",
    "}\n",
    "```"
   ]
  },
  {
   "cell_type": "markdown",
   "id": "seeing-estate",
   "metadata": {
    "slideshow": {
     "slide_type": "subslide"
    }
   },
   "source": [
    "<center>\n",
    "\n",
    "## Sprawdźmy jak to działa\n",
    "    \n",
    "</center>"
   ]
  },
  {
   "cell_type": "code",
   "execution_count": null,
   "id": "latest-spirituality",
   "metadata": {},
   "outputs": [],
   "source": [
    "@Retention(RetentionPolicy.RUNTIME)\n",
    "@interface SimpleAnnotation{}\n",
    "\n",
    "class SimpleClass {\n",
    "    @Override\n",
    "    @SimpleAnnotation\n",
    "    @CommandLine.Command\n",
    "    public String toString() {\n",
    "        return \"hahah\";\n",
    "    }\n",
    "}\n",
    "\n",
    "Method m = SimpleClass.class.getMethod(\"toString\");\n",
    "for (Annotation a : m.getAnnotations()) {\n",
    "    System.out.println(a.annotationType().getSimpleName());\n",
    "}"
   ]
  },
  {
   "cell_type": "markdown",
   "id": "pressed-dancing",
   "metadata": {
    "slideshow": {
     "slide_type": "slide"
    }
   },
   "source": [
    "<center>\n",
    "    \n",
    "# Co jeszcze można zdefiniować w swojej własnej adnotacji?    \n",
    "    \n",
    "</center>"
   ]
  },
  {
   "cell_type": "markdown",
   "id": "arbitrary-contents",
   "metadata": {
    "slideshow": {
     "slide_type": "subslide"
    }
   },
   "source": [
    "<center>\n",
    "\n",
    "### Ograniczyć, na co adnotację możemy położyć    \n",
    "    \n",
    "</center>\n",
    "\n",
    "\n",
    "```java\n",
    "@Documented\n",
    "@Retention(RetentionPolicy.RUNTIME)\n",
    "@Target({ElementType.ANNOTATION_TYPE})\n",
    "public @interface Target {\n",
    "    ElementType[] value();\n",
    "}\n",
    "```"
   ]
  },
  {
   "cell_type": "code",
   "execution_count": null,
   "id": "reasonable-street",
   "metadata": {
    "slideshow": {
     "slide_type": "fragment"
    }
   },
   "outputs": [],
   "source": [
    "@Target(ElementType.TYPE)\n",
    "@Retention(RetentionPolicy.RUNTIME)\n",
    "@interface SimpleAnnotation{}\n",
    "\n",
    "class SimpleClass {\n",
    "    @SimpleAnnotation\n",
    "    int field;\n",
    "}"
   ]
  },
  {
   "cell_type": "markdown",
   "id": "whole-diagnosis",
   "metadata": {
    "slideshow": {
     "slide_type": "subslide"
    }
   },
   "source": [
    "<center>\n",
    "\n",
    "### Pozwolić na dziedziczenie \n",
    "    \n",
    "</center>\n",
    "\n",
    "\n",
    "```java\n",
    "@Documented\n",
    "@Retention(RetentionPolicy.RUNTIME)\n",
    "@Target({ElementType.ANNOTATION_TYPE})\n",
    "public @interface Inherited {\n",
    "}\n",
    "```"
   ]
  },
  {
   "cell_type": "markdown",
   "id": "tutorial-toolbox",
   "metadata": {
    "slideshow": {
     "slide_type": "subslide"
    }
   },
   "source": [
    "<center>\n",
    "\n",
    "### Pozwolić na wielokrotne położenie adnotacji\n",
    "    \n",
    "</center>\n",
    "\n",
    "```java\n",
    "@Documented\n",
    "@Retention(RetentionPolicy.RUNTIME)\n",
    "@Target(ElementType.ANNOTATION_TYPE)\n",
    "public @interface Repeatable {\n",
    "    Class<? extends Annotation> value();\n",
    "}\n",
    "```"
   ]
  },
  {
   "cell_type": "code",
   "execution_count": null,
   "id": "signal-bidding",
   "metadata": {
    "slideshow": {
     "slide_type": "subslide"
    }
   },
   "outputs": [],
   "source": [
    "@Retention(RetentionPolicy.RUNTIME)\n",
    "@interface SimpleAnnotations {\n",
    "    SimpleAnnotation[] value();\n",
    "}\n",
    "\n",
    "@Repeatable(SimpleAnnotations.class)\n",
    "@Retention(RetentionPolicy.RUNTIME)\n",
    "@interface SimpleAnnotation {\n",
    "    String value() default \"\";\n",
    "}\n",
    "\n",
    "@SimpleAnnotation()\n",
    "@SimpleAnnotation()\n",
    "public class Foo {\n",
    "    void bar() {}\n",
    "}\n",
    "\n",
    "Class<Foo> clazz = Foo.class;\n",
    "for (Annotation a : clazz.getAnnotations()) {\n",
    "    System.out.println(a.annotationType().getSimpleName());\n",
    "}"
   ]
  },
  {
   "cell_type": "markdown",
   "id": "personal-canberra",
   "metadata": {
    "slideshow": {
     "slide_type": "slide"
    }
   },
   "source": [
    "<center>\n",
    "    \n",
    "# Zdefiniowanie własnego serializera obiektów do JSONa   \n",
    "    \n",
    "</center>"
   ]
  },
  {
   "cell_type": "code",
   "execution_count": null,
   "id": "every-prisoner",
   "metadata": {
    "slideshow": {
     "slide_type": "subslide"
    }
   },
   "outputs": [],
   "source": [
    "@Retention(RetentionPolicy.RUNTIME)\n",
    "@Target(ElementType.TYPE)\n",
    "public @interface JSONObject {\n",
    "}\n",
    "\n",
    "@Retention(RetentionPolicy.RUNTIME)\n",
    "@Target(ElementType.FIELD)\n",
    "public @interface JSONField {\n",
    "    String value() default \"\";\n",
    "}"
   ]
  },
  {
   "cell_type": "code",
   "execution_count": null,
   "id": "ethical-japanese",
   "metadata": {
    "slideshow": {
     "slide_type": "subslide"
    }
   },
   "outputs": [],
   "source": [
    "@JSONObject\n",
    "public class Student {\n",
    "    @JSONField(\"Imie\")\n",
    "    public String firstName;\n",
    "    @JSONField(\"Nazwisko\")\n",
    "    public String lastName;\n",
    "    public String address;\n",
    "    @JSONField\n",
    "    public int age;\n",
    "    @JSONField\n",
    "    public double height;\n",
    "    public Student(String firstName, String lastName, String address, int age, double height) {\n",
    "        this.firstName = firstName;\n",
    "        this.lastName = lastName;\n",
    "        this.address = address;\n",
    "        this.age = age;\n",
    "        this.height = height;\n",
    "    }\n",
    "}"
   ]
  },
  {
   "cell_type": "code",
   "execution_count": null,
   "id": "alive-tribune",
   "metadata": {
    "slideshow": {
     "slide_type": "subslide"
    }
   },
   "outputs": [],
   "source": [
    "public static String serializeToJSON(Object o) throws IllegalAccessException {\n",
    "    Class<?> clazz = o.getClass();\n",
    "    if (!clazz.isAnnotationPresent(JSONObject.class)) {\n",
    "        throw new IllegalArgumentException(\"Not supported class\");\n",
    "    }\n",
    "    Field[] fields = clazz.getDeclaredFields();\n",
    "    StringBuilder result = new StringBuilder(\"{\");\n",
    "    result.append(System.lineSeparator());\n",
    "    for (Field f : fields) {\n",
    "        \n",
    "    }\n",
    "    result.append(\"}\");\n",
    "    return result.toString();\n",
    "}\n",
    "\n",
    "Student s = new Student(\"Doktor\", \"Ziel\", \"Zielony Backlog 13\", 44, 1.56);\n",
    "System.out.println(serializeToJSON(s));"
   ]
  },
  {
   "cell_type": "markdown",
   "id": "australian-preparation",
   "metadata": {
    "slideshow": {
     "slide_type": "slide"
    }
   },
   "source": [
    "<center>\n",
    "    \n",
    "# Podsumowanie  \n",
    "    \n",
    "</center>\n",
    "\n",
    "1. Zobaczyliśmy adnotacje z biblioteki standardowej\n",
    "2. Nauczyliśmy się tworzyć własne adnotacje\n",
    "3. Poznaliśmy bibliotekę `picocli`\n",
    "4. Poznaliśmy poziomy widoczności adnotacji\n",
    "5. Dowiedzieliśmy się, że właściwości adnotacji dodaje się przez adnotację\n",
    "6. Napisaliśmy własne adnotacje i użyliśmy ich do rozwiązania rzeczywistego problemu"
   ]
  },
  {
   "cell_type": "markdown",
   "id": "productive-length",
   "metadata": {
    "slideshow": {
     "slide_type": "slide"
    }
   },
   "source": [
    "<center>\n",
    "    \n",
    "# No ale co z tym Lombokiem?\n",
    "    \n",
    "</center>"
   ]
  },
  {
   "cell_type": "markdown",
   "id": "incident-casting",
   "metadata": {
    "slideshow": {
     "slide_type": "subslide"
    }
   },
   "source": [
    "Sami [twórcy opisują](https://projectlombok.org/) to jako:\n",
    "\n",
    "> Project Lombok is a java library that automatically plugs into your editor and build tools, spicing up your java.\n",
    "Never write another getter or equals method again, with one annotation your class has a fully featured builder, Automate your logging variables, and much more. "
   ]
  },
  {
   "cell_type": "markdown",
   "id": "related-silver",
   "metadata": {
    "slideshow": {
     "slide_type": "subslide"
    }
   },
   "source": [
    "### Wady\n",
    "\n",
    "- Łamie enkapsulację\n",
    "- Dodaje magię do kodu\n",
    "- Utrudnia debugowanie\n",
    "\n",
    "\n",
    "### Zalety\n",
    "\n",
    "- Przyspiesza pracę nad projektem"
   ]
  },
  {
   "cell_type": "markdown",
   "id": "characteristic-haven",
   "metadata": {
    "slideshow": {
     "slide_type": "slide"
    }
   },
   "source": [
    "<center>\n",
    "    \n",
    "# Dziękuję za uwagę\n",
    "\n",
    "    \n",
    "### znajdziecie mnie na https://zielony-backlog.pl\n",
    "    \n",
    "    \n",
    "</center>\n",
    "\n",
    "\n"
   ]
  }
 ],
 "metadata": {
  "celltoolbar": "Slideshow",
  "kernelspec": {
   "display_name": "Java",
   "language": "java",
   "name": "java"
  },
  "language_info": {
   "codemirror_mode": "java",
   "file_extension": ".jshell",
   "mimetype": "text/x-java-source",
   "name": "Java",
   "pygments_lexer": "java",
   "version": "11.0.9.1+1-Ubuntu-0ubuntu1.20.04"
  },
  "rise": {
   "theme": "solarized"
  }
 },
 "nbformat": 4,
 "nbformat_minor": 5
}
